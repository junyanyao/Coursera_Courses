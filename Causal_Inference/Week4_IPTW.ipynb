{
 "cells": [
  {
   "cell_type": "code",
   "execution_count": 42,
   "metadata": {},
   "outputs": [],
   "source": [
    "library(tableone)\n",
    "library(ipw)\n",
    "library(sandwich)\n",
    "library(survey)"
   ]
  },
  {
   "cell_type": "code",
   "execution_count": 43,
   "metadata": {},
   "outputs": [],
   "source": [
    "#load dataset\n",
    "load(url(\"http://biostat.mc.vanderbilt.edu/wiki/pub/Main/DataSets/rhc.sav\"))"
   ]
  },
  {
   "cell_type": "code",
   "execution_count": 44,
   "metadata": {},
   "outputs": [],
   "source": [
    "ARF <- as.numeric(rhc$cat1 == 'ARF')\n",
    "CHF<- as.numeric(rhc$cat1=='CHF')\n",
    "Cirr<- as.numeric(rhc$cat1 == 'Cirrhosis')\n",
    "colcan <- as.numeric(rhc$cat1 == 'Colon Cancer')\n",
    "Coma<- as.numeric(rhc$cat1 == 'Coma')\n",
    "COPD <- as.numeric(rhc$cat1 == 'COPD')\n",
    "lungcan <- as.numeric(rhc$cat1 == 'Lung Cancer')\n",
    "MOSF <- as.numeric(rhc$cat1 == 'MOSF w/Malignancy')\n",
    "sepsis<- as.numeric(rhc$cat1 == 'MOSF w/Sepsis')\n",
    "female <- as.numeric(rhc$sex == 'Female')\n",
    "died <- as.numeric(rhc$death == 'Yes')\n",
    "age <- rhc$age\n",
    "treatment <- as.numeric(rhc$swang1 == 'RHC')\n",
    "meanbp1 <- rhc$meanbp1\n",
    "aps <- rhc$aps1\n",
    "\n",
    "mydata<- cbind(ARF, CHF, Cirr, colcan, Coma, lungcan, MOSF, sepsis, age, female, meanbp1, aps, treatment, died)\n",
    "mydata <- data.frame(mydata)"
   ]
  },
  {
   "cell_type": "code",
   "execution_count": 45,
   "metadata": {},
   "outputs": [],
   "source": [
    "# propensity score model\n",
    "psmodel <- glm(treatment~ ARF+ CHF+ Cirr+ colcan + Coma+ lungcan+ MOSF + sepsis + age + female + meanbp1 + aps,\n",
    "               family = binomial(), data = mydata)\n",
    "\n",
    "# value of propensity score for each subject\n",
    "ps<- predict(psmodel, type = 'response')"
   ]
  },
  {
   "cell_type": "code",
   "execution_count": 46,
   "metadata": {},
   "outputs": [],
   "source": [
    "# create weights and check balance\n",
    "\n",
    "weight <- ifelse(treatment == 1, 1/ps, 1/(1-ps))"
   ]
  },
  {
   "cell_type": "code",
   "execution_count": 47,
   "metadata": {},
   "outputs": [],
   "source": [
    "#apply weight to data\n",
    "weighteddata <- svydesign(ids= ~1, data= mydata, weights = ~weight)"
   ]
  },
  {
   "cell_type": "code",
   "execution_count": 48,
   "metadata": {},
   "outputs": [
    {
     "name": "stdout",
     "output_type": "stream",
     "text": [
      "                     Stratified by treatment\n",
      "                      0               1               SMD   \n",
      "  n                   5760.80         5660.88               \n",
      "  ARF (mean (SD))        0.43 (0.50)     0.45 (0.50)   0.021\n",
      "  CHF (mean (SD))        0.08 (0.27)     0.08 (0.27)   0.001\n",
      "  Cirr (mean (SD))       0.04 (0.19)     0.04 (0.18)   0.017\n",
      "  colcan (mean (SD))     0.00 (0.04)     0.00 (0.06)   0.039\n",
      "  Coma (mean (SD))       0.07 (0.26)     0.07 (0.25)   0.025\n",
      "  lungcan (mean (SD))    0.01 (0.08)     0.01 (0.08)   0.010\n",
      "  MOSF (mean (SD))       0.07 (0.25)     0.07 (0.26)   0.008\n",
      "  sepsis (mean (SD))     0.22 (0.41)     0.22 (0.41)   0.004\n",
      "  age (mean (SD))       61.37 (17.59)   61.52 (15.22)  0.010\n",
      "  female (mean (SD))     0.44 (0.50)     0.44 (0.50)  <0.001\n",
      "  meanbp1 (mean (SD))   78.28 (38.20)   78.14 (38.34)  0.004\n",
      "  aps (mean (SD))       55.05 (20.43)   55.42 (19.84)  0.018\n"
     ]
    }
   ],
   "source": [
    "#weighted table 1\n",
    "xvars <- c('ARF', 'CHF', 'Cirr', 'colcan', 'Coma', 'lungcan', 'MOSF', 'sepsis',\n",
    "           'age', 'female', 'meanbp1', 'aps')\n",
    "weightedtable <- svyCreateTableOne(vars= xvars , strata= 'treatment', data= weighteddata, test= FALSE)\n",
    "#Show table with SMD\n",
    "print(weightedtable, smd =TRUE)"
   ]
  },
  {
   "cell_type": "code",
   "execution_count": 49,
   "metadata": {},
   "outputs": [
    {
     "name": "stdout",
     "output_type": "stream",
     "text": [
      "                     Stratified by treatment\n",
      "                      0             1             SMD   \n",
      "  n                    3551          2184               \n",
      "  ARF (mean (SD))      0.45 (0.50)   0.42 (0.49)   0.059\n",
      "  CHF (mean (SD))      0.07 (0.25)   0.10 (0.29)   0.095\n",
      "  Cirr (mean (SD))     0.05 (0.22)   0.02 (0.15)   0.145\n",
      "  colcan (mean (SD))   0.00 (0.04)   0.00 (0.02)   0.038\n",
      "  Coma (mean (SD))     0.10 (0.29)   0.04 (0.20)   0.207\n",
      "  lungcan (mean (SD))  0.01 (0.10)   0.00 (0.05)   0.095\n",
      "  MOSF (mean (SD))     0.07 (0.25)   0.07 (0.26)   0.018\n",
      "  sepsis (mean (SD))   0.15 (0.36)   0.32 (0.47)   0.415\n",
      "  age (mean (SD))     61.76 (17.29) 60.75 (15.63)  0.061\n",
      "  female (mean (SD))   0.46 (0.50)   0.41 (0.49)   0.093\n",
      "  meanbp1 (mean (SD)) 84.87 (38.87) 68.20 (34.24)  0.455\n",
      "  aps (mean (SD))     50.93 (18.81) 60.74 (20.27)  0.501\n"
     ]
    }
   ],
   "source": [
    "## now this is non- weighted table\n",
    "nonweight<- CreateTableOne(vars= xvars , strata= 'treatment', data= mydata, test= FALSE)\n",
    "print(nonweight, smd= TRUE)"
   ]
  },
  {
   "cell_type": "code",
   "execution_count": 50,
   "metadata": {},
   "outputs": [
    {
     "data": {
      "text/html": [
       "61.5242730910039"
      ],
      "text/latex": [
       "61.5242730910039"
      ],
      "text/markdown": [
       "61.5242730910039"
      ],
      "text/plain": [
       "[1] 61.52427"
      ]
     },
     "metadata": {},
     "output_type": "display_data"
    }
   ],
   "source": [
    "# get a weighted mean for a single covariate directly\n",
    "\n",
    "mean(weight[treatment ==1] * age[treatment ==1]) / (mean(weight[treatment==1]))"
   ]
  },
  {
   "cell_type": "markdown",
   "metadata": {},
   "source": [
    "# MSMs"
   ]
  },
  {
   "cell_type": "code",
   "execution_count": 51,
   "metadata": {},
   "outputs": [
    {
     "name": "stderr",
     "output_type": "stream",
     "text": [
      "Warning message in eval(family$initialize):\n",
      "“non-integer #successes in a binomial glm!”\n"
     ]
    }
   ],
   "source": [
    "#get causal relative risk. weighted GLM\n",
    "glm.obj<- glm(died ~ treatment, weights= weight, family=  binomial(link= log))\n",
    "betaiptw<- coef(glm.obj)\n",
    "#to properly account for weighting, use asymptotic(sandwich) variance\n",
    "SE<- sqrt(diag(vcovHC(glm.obj, type = 'HC0')))\n",
    "\n",
    "#vcov will give you a 2 by 2 covariant metrics"
   ]
  },
  {
   "cell_type": "code",
   "execution_count": 52,
   "metadata": {},
   "outputs": [
    {
     "data": {
      "text/html": [
       "<style>\n",
       ".dl-inline {width: auto; margin:0; padding: 0}\n",
       ".dl-inline>dt, .dl-inline>dd {float: none; width: auto; display: inline-block}\n",
       ".dl-inline>dt::after {content: \":\\0020\"; padding-right: .5ex}\n",
       ".dl-inline>dt:not(:first-of-type) {padding-left: .5ex}\n",
       "</style><dl class=dl-inline><dt>treatment</dt><dd>1.00173029194535</dd><dt>treatment</dt><dd>1.04546308298405</dd><dt>treatment</dt><dd>1.09110512746893</dd></dl>\n"
      ],
      "text/latex": [
       "\\begin{description*}\n",
       "\\item[treatment] 1.00173029194535\n",
       "\\item[treatment] 1.04546308298405\n",
       "\\item[treatment] 1.09110512746893\n",
       "\\end{description*}\n"
      ],
      "text/markdown": [
       "treatment\n",
       ":   1.00173029194535treatment\n",
       ":   1.04546308298405treatment\n",
       ":   1.09110512746893\n",
       "\n"
      ],
      "text/plain": [
       "treatment treatment treatment \n",
       " 1.001730  1.045463  1.091105 "
      ]
     },
     "metadata": {},
     "output_type": "display_data"
    }
   ],
   "source": [
    "#get point estimate and CI for relative risk\n",
    "causalrr<- exp(betaiptw[2])\n",
    "lcl<- exp(betaiptw[2] -  1.96*SE[2])\n",
    "ucl<-exp(betaiptw[2] + 1.96*SE[2])\n",
    "c(lcl, causalrr, ucl)"
   ]
  },
  {
   "cell_type": "code",
   "execution_count": 53,
   "metadata": {},
   "outputs": [
    {
     "name": "stderr",
     "output_type": "stream",
     "text": [
      "Warning message in eval(family$initialize):\n",
      "“non-integer #successes in a binomial glm!”\n"
     ]
    }
   ],
   "source": [
    "# get causal risk difference\n",
    "glm.obj<- glm(died ~ treatment, weights= weight, family=  binomial(link= 'identity'))\n",
    "\n",
    "betaiptw<- coef(glm.obj)\n",
    "SE<- sqrt(diag(vcovHC(glm.obj, type = 'HC0')))\n",
    "\n"
   ]
  },
  {
   "cell_type": "code",
   "execution_count": 54,
   "metadata": {},
   "outputs": [],
   "source": [
    "causalrd<- betaiptw[2]\n",
    "lcl <- (betaiptw[2] - 1.96*SE[2])\n",
    "ucl <- (betaiptw[2] + 1.96  * SE[2])"
   ]
  },
  {
   "cell_type": "code",
   "execution_count": 55,
   "metadata": {},
   "outputs": [
    {
     "data": {
      "text/html": [
       "<style>\n",
       ".dl-inline {width: auto; margin:0; padding: 0}\n",
       ".dl-inline>dt, .dl-inline>dd {float: none; width: auto; display: inline-block}\n",
       ".dl-inline>dt::after {content: \":\\0020\"; padding-right: .5ex}\n",
       ".dl-inline>dt:not(:first-of-type) {padding-left: .5ex}\n",
       "</style><dl class=dl-inline><dt>treatment</dt><dd>0.000949549829808775</dd><dt>treatment</dt><dd>0.0291199506145261</dd><dt>treatment</dt><dd>0.0572903513992435</dd></dl>\n"
      ],
      "text/latex": [
       "\\begin{description*}\n",
       "\\item[treatment] 0.000949549829808775\n",
       "\\item[treatment] 0.0291199506145261\n",
       "\\item[treatment] 0.0572903513992435\n",
       "\\end{description*}\n"
      ],
      "text/markdown": [
       "treatment\n",
       ":   0.000949549829808775treatment\n",
       ":   0.0291199506145261treatment\n",
       ":   0.0572903513992435\n",
       "\n"
      ],
      "text/plain": [
       "   treatment    treatment    treatment \n",
       "0.0009495498 0.0291199506 0.0572903514 "
      ]
     },
     "metadata": {},
     "output_type": "display_data"
    }
   ],
   "source": [
    "c(lcl, causalrd, ucl)"
   ]
  },
  {
   "cell_type": "code",
   "execution_count": 56,
   "metadata": {},
   "outputs": [],
   "source": [
    "# let's fit the same models using the R package IPW\n",
    "weightmodel <- ipwpoint(exposure = treatment, family = 'binomial', link = 'logit', denominator = ~age + female + meanbp1\n",
    "                       + ARF +CHF + Cirr+ colcan + Coma + lungcan + MOSF + sepsis , data= mydata)"
   ]
  },
  {
   "cell_type": "code",
   "execution_count": 57,
   "metadata": {},
   "outputs": [
    {
     "data": {
      "text/plain": [
       "   Min. 1st Qu.  Median    Mean 3rd Qu.    Max. \n",
       "  1.046   1.405   1.721   2.001   2.280  21.606 "
      ]
     },
     "metadata": {},
     "output_type": "display_data"
    }
   ],
   "source": [
    "summary(weightmodel$ipw.weights)"
   ]
  },
  {
   "cell_type": "code",
   "execution_count": 58,
   "metadata": {},
   "outputs": [
    {
     "data": {
      "image/png": "[encoded data removed]",
      "text/plain": [
       "Plot with title “weights”"
      ]
     },
     "metadata": {
      "image/png": {
       "height": 420,
       "width": 420
      }
     },
     "output_type": "display_data"
    }
   ],
   "source": [
    "#plot of the weights\n",
    "ipwplot(weights = weightmodel$ipw.weights, logscal = FALSE, main = 'weights', xlim = c(0,22))"
   ]
  },
  {
   "cell_type": "code",
   "execution_count": 59,
   "metadata": {},
   "outputs": [],
   "source": [
    "# fit a marginal structural model (risk difference)\n",
    "mydata$wt2= weightmodel$ipw.weights\n",
    "msm <- (svyglm(died ~ treatment, design = svydesign( ~1, weights = ~wt2, data = mydata)))"
   ]
  },
  {
   "cell_type": "code",
   "execution_count": 60,
   "metadata": {},
   "outputs": [
    {
     "data": {
      "text/html": [
       "<style>\n",
       ".dl-inline {width: auto; margin:0; padding: 0}\n",
       ".dl-inline>dt, .dl-inline>dd {float: none; width: auto; display: inline-block}\n",
       ".dl-inline>dt::after {content: \":\\0020\"; padding-right: .5ex}\n",
       ".dl-inline>dt:not(:first-of-type) {padding-left: .5ex}\n",
       "</style><dl class=dl-inline><dt>(Intercept)</dt><dd>0.630463751130619</dd><dt>treatment</dt><dd>0.0515495132584548</dd></dl>\n"
      ],
      "text/latex": [
       "\\begin{description*}\n",
       "\\item[(Intercept)] 0.630463751130619\n",
       "\\item[treatment] 0.0515495132584548\n",
       "\\end{description*}\n"
      ],
      "text/markdown": [
       "(Intercept)\n",
       ":   0.630463751130619treatment\n",
       ":   0.0515495132584548\n",
       "\n"
      ],
      "text/plain": [
       "(Intercept)   treatment \n",
       " 0.63046375  0.05154951 "
      ]
     },
     "metadata": {},
     "output_type": "display_data"
    }
   ],
   "source": [
    "coef(msm)"
   ]
  },
  {
   "cell_type": "code",
   "execution_count": 61,
   "metadata": {},
   "outputs": [
    {
     "data": {
      "text/html": [
       "<table>\n",
       "<caption>A matrix: 2 × 2 of type dbl</caption>\n",
       "<thead>\n",
       "\t<tr><th></th><th scope=col>2.5 %</th><th scope=col>97.5 %</th></tr>\n",
       "</thead>\n",
       "<tbody>\n",
       "\t<tr><th scope=row>(Intercept)</th><td>0.61401445</td><td>0.64691305</td></tr>\n",
       "\t<tr><th scope=row>treatment</th><td>0.02333029</td><td>0.07976873</td></tr>\n",
       "</tbody>\n",
       "</table>\n"
      ],
      "text/latex": [
       "A matrix: 2 × 2 of type dbl\n",
       "\\begin{tabular}{r|ll}\n",
       "  & 2.5 \\% & 97.5 \\%\\\\\n",
       "\\hline\n",
       "\t(Intercept) & 0.61401445 & 0.64691305\\\\\n",
       "\ttreatment & 0.02333029 & 0.07976873\\\\\n",
       "\\end{tabular}\n"
      ],
      "text/markdown": [
       "\n",
       "A matrix: 2 × 2 of type dbl\n",
       "\n",
       "| <!--/--> | 2.5 % | 97.5 % |\n",
       "|---|---|---|\n",
       "| (Intercept) | 0.61401445 | 0.64691305 |\n",
       "| treatment | 0.02333029 | 0.07976873 |\n",
       "\n"
      ],
      "text/plain": [
       "            2.5 %      97.5 %    \n",
       "(Intercept) 0.61401445 0.64691305\n",
       "treatment   0.02333029 0.07976873"
      ]
     },
     "metadata": {},
     "output_type": "display_data"
    }
   ],
   "source": [
    "confint(msm)"
   ]
  },
  {
   "cell_type": "code",
   "execution_count": 62,
   "metadata": {},
   "outputs": [
    {
     "name": "stderr",
     "output_type": "stream",
     "text": [
      "Warning message in eval(family$initialize):\n",
      "“non-integer #successes in a binomial glm!”\n"
     ]
    }
   ],
   "source": [
    "# Truncated weights\n",
    "truncweight <- replace(weight, weight >10, 10)\n",
    "\n",
    "#get causal risk difference\n",
    "glm.obj<- glm(died ~ treatment, weights= truncweight, family=  binomial(link= 'identity'))\n",
    "\n"
   ]
  },
  {
   "cell_type": "code",
   "execution_count": 63,
   "metadata": {},
   "outputs": [],
   "source": [
    "# other way to do it:\n",
    "\n",
    "weightmodel <- ipwpoint(exposure = treatment, family = 'binomial', link = 'logit', denominator = ~age + female + meanbp1\n",
    "                       + ARF +CHF + Cirr+ colcan + Coma + lungcan + MOSF + sepsis , data= mydata, trunc = 0.01) # truncates at 1st and 99th percentile\n"
   ]
  },
  {
   "cell_type": "code",
   "execution_count": 64,
   "metadata": {},
   "outputs": [
    {
     "data": {
      "text/plain": [
       "   Min. 1st Qu.  Median    Mean 3rd Qu.    Max. \n",
       "  1.081   1.405   1.721   1.972   2.280   6.379 "
      ]
     },
     "metadata": {},
     "output_type": "display_data"
    }
   ],
   "source": [
    "summary(weightmodel$weights.trunc)"
   ]
  },
  {
   "cell_type": "code",
   "execution_count": 65,
   "metadata": {},
   "outputs": [
    {
     "data": {
      "image/png": "[encoded data removed]",
      "text/plain": [
       "Plot with title “weights”"
      ]
     },
     "metadata": {
      "image/png": {
       "height": 420,
       "width": 420
      }
     },
     "output_type": "display_data"
    }
   ],
   "source": [
    "ipwplot(weights = weightmodel$weights.trun, logscale = FALSE, main = 'weights', xlim = c(0,22))"
   ]
  },
  {
   "cell_type": "code",
   "execution_count": 66,
   "metadata": {},
   "outputs": [],
   "source": [
    "mydata$wt <- weightmodel$weights.trun\n",
    "msm<- (svyglm(died ~ treatment, design = svydesign( ~1, weights = ~wt, data = mydata)))"
   ]
  },
  {
   "cell_type": "code",
   "execution_count": 67,
   "metadata": {},
   "outputs": [
    {
     "data": {
      "text/html": [
       "<style>\n",
       ".dl-inline {width: auto; margin:0; padding: 0}\n",
       ".dl-inline>dt, .dl-inline>dd {float: none; width: auto; display: inline-block}\n",
       ".dl-inline>dt::after {content: \":\\0020\"; padding-right: .5ex}\n",
       ".dl-inline>dt:not(:first-of-type) {padding-left: .5ex}\n",
       "</style><dl class=dl-inline><dt>(Intercept)</dt><dd>0.630455326169873</dd><dt>treatment</dt><dd>0.0549486491446014</dd></dl>\n"
      ],
      "text/latex": [
       "\\begin{description*}\n",
       "\\item[(Intercept)] 0.630455326169873\n",
       "\\item[treatment] 0.0549486491446014\n",
       "\\end{description*}\n"
      ],
      "text/markdown": [
       "(Intercept)\n",
       ":   0.630455326169873treatment\n",
       ":   0.0549486491446014\n",
       "\n"
      ],
      "text/plain": [
       "(Intercept)   treatment \n",
       " 0.63045533  0.05494865 "
      ]
     },
     "metadata": {},
     "output_type": "display_data"
    }
   ],
   "source": [
    "coef(msm)"
   ]
  },
  {
   "cell_type": "code",
   "execution_count": 68,
   "metadata": {},
   "outputs": [
    {
     "data": {
      "text/html": [
       "<table>\n",
       "<caption>A matrix: 2 × 2 of type dbl</caption>\n",
       "<thead>\n",
       "\t<tr><th></th><th scope=col>2.5 %</th><th scope=col>97.5 %</th></tr>\n",
       "</thead>\n",
       "<tbody>\n",
       "\t<tr><th scope=row>(Intercept)</th><td>0.61400659</td><td>0.64690406</td></tr>\n",
       "\t<tr><th scope=row>treatment</th><td>0.02822931</td><td>0.08166799</td></tr>\n",
       "</tbody>\n",
       "</table>\n"
      ],
      "text/latex": [
       "A matrix: 2 × 2 of type dbl\n",
       "\\begin{tabular}{r|ll}\n",
       "  & 2.5 \\% & 97.5 \\%\\\\\n",
       "\\hline\n",
       "\t(Intercept) & 0.61400659 & 0.64690406\\\\\n",
       "\ttreatment & 0.02822931 & 0.08166799\\\\\n",
       "\\end{tabular}\n"
      ],
      "text/markdown": [
       "\n",
       "A matrix: 2 × 2 of type dbl\n",
       "\n",
       "| <!--/--> | 2.5 % | 97.5 % |\n",
       "|---|---|---|\n",
       "| (Intercept) | 0.61400659 | 0.64690406 |\n",
       "| treatment | 0.02822931 | 0.08166799 |\n",
       "\n"
      ],
      "text/plain": [
       "            2.5 %      97.5 %    \n",
       "(Intercept) 0.61400659 0.64690406\n",
       "treatment   0.02822931 0.08166799"
      ]
     },
     "metadata": {},
     "output_type": "display_data"
    }
   ],
   "source": [
    "confint(msm)"
   ]
  },
  {
   "cell_type": "code",
   "execution_count": 41,
   "metadata": {},
   "outputs": [],
   "source": [
    "# it did not make a large difference"
   ]
  }
 ],
 "metadata": {
  "kernelspec": {
   "display_name": "R",
   "language": "R",
   "name": "ir"
  },
  "language_info": {
   "codemirror_mode": "r",
   "file_extension": ".r",
   "mimetype": "text/x-r-source",
   "name": "R",
   "pygments_lexer": "r",
   "version": "4.0.1"
  }
 },
 "nbformat": 4,
 "nbformat_minor": 4
}
